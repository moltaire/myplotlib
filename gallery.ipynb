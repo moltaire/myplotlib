{
 "cells": [
  {
   "cell_type": "code",
   "execution_count": null,
   "metadata": {},
   "outputs": [],
   "source": [
    "import matplotlib\n",
    "import matplotlib.pyplot as plt\n",
    "import numpy as np\n",
    "import pandas as pd\n",
    "\n",
    "import myplotlib as my\n",
    "\n",
    "%matplotlib inline\n",
    "\n",
    "%load_ext autoreload\n",
    "%autoreload 2\n"
   ]
  },
  {
   "cell_type": "code",
   "execution_count": null,
   "metadata": {},
   "outputs": [],
   "source": [
    "# Set matplotlib defaults\n",
    "matplotlib = my.utilities.set_mpl_defaults(matplotlib)\n"
   ]
  },
  {
   "cell_type": "markdown",
   "metadata": {},
   "source": [
    "# Make some data"
   ]
  },
  {
   "cell_type": "code",
   "execution_count": null,
   "metadata": {},
   "outputs": [],
   "source": [
    "np.random.seed(11)\n",
    "variables = [\"a\", \"b\", \"c\", \"d\", \"e\", \"f\", \"g\", \"h\"]\n",
    "data = pd.DataFrame(\n",
    "    {\n",
    "        v: np.random.normal(\n",
    "            loc=np.random.uniform(), scale=np.random.uniform(0.5, 1.0), size=50\n",
    "        )\n",
    "        for v in variables\n",
    "    }\n",
    ")\n",
    "data.columns.name = \"Group\"\n",
    "\n"
   ]
  },
  {
   "cell_type": "markdown",
   "metadata": {},
   "source": [
    "# Violin Plot"
   ]
  },
  {
   "cell_type": "code",
   "execution_count": null,
   "metadata": {
    "scrolled": true
   },
   "outputs": [],
   "source": [
    "fig, ax = plt.subplots(dpi=300, figsize=my.utilities.cm2inch(9, 4.5))\n",
    "ax = my.plots.violin(data, value_name=\"Measure\", ax=ax)\n",
    "plt.savefig(\"examples/violin.png\")\n",
    "\n"
   ]
  },
  {
   "cell_type": "markdown",
   "metadata": {},
   "source": [
    "# Scatter"
   ]
  },
  {
   "cell_type": "code",
   "execution_count": null,
   "metadata": {
    "scrolled": false
   },
   "outputs": [],
   "source": [
    "fig = plt.figure()\n",
    "\n",
    "my.plots.scatter(data[\"a\"], data[\"b\"], label=\"b\")\n",
    "my.plots.scatter(data[\"a\"], data[\"c\"], label=\"c\")\n",
    "ax = my.plots.scatter(data[\"a\"], data[\"d\"], label=\"d\")\n",
    "ax.set_xlabel(\"a\")\n",
    "ax.set_ylabel(\"$\\{b, c, d\\}$\")\n",
    "ax.legend()\n",
    "ax.set_title(\"Scatter plot\")\n",
    "plt.savefig(\"examples/scatter.png\")\n",
    "\n"
   ]
  },
  {
   "cell_type": "markdown",
   "metadata": {},
   "source": [
    "# Linear Model"
   ]
  },
  {
   "cell_type": "code",
   "execution_count": null,
   "metadata": {},
   "outputs": [],
   "source": [
    "scatter_kws = dict()  # dict(edgealpha=0.7, facealpha=0.5)\n",
    "fig, ax = plt.subplots()\n",
    "ax, trace_ab, summary_ab = my.plots.lm(\n",
    "    data[\"a\"], data[\"b\"], scatter_kws=dict(scatter_kws, label=\"b\")\n",
    ")\n",
    "ax, trace_ac, summary_ac = my.plots.lm(\n",
    "    data[\"a\"], data[\"c\"], scatter_kws=dict(scatter_kws, label=\"c\")\n",
    ")\n",
    "ax.legend()\n",
    "ax.set_xlabel(\"a\")\n",
    "ax.set_ylabel(\"Other\")\n",
    "\n",
    "ax.set_title('Linear model')\n",
    "plt.savefig('examples/lm.png')"
   ]
  },
  {
   "cell_type": "markdown",
   "metadata": {},
   "source": [
    "# Bar annotation"
   ]
  },
  {
   "cell_type": "code",
   "execution_count": null,
   "metadata": {},
   "outputs": [],
   "source": [
    "ax = my.plots.violin(data[[\"a\", \"b\", \"c\"]], value_name=\"Measure\")\n",
    "\n",
    "# Annotation\n",
    "sd_pooled = np.sqrt(np.std(data[\"a\"]) ** 2 + np.std(data[\"b\"]) ** 2)\n",
    "d = (np.mean(data[\"a\"]) - np.mean(data[\"b\"])) / sd_pooled\n",
    "ax = my.annotation.hTextLine(\n",
    "    text=\"$d$ = {d:.2f}\".format(d=d), x0=0, x1=1, y=3.25, ax=ax\n",
    ")\n",
    "ax.set_title('Annotation with horizontal line')\n",
    "plt.savefig(\"examples/hTextLine.png\")\n",
    "\n"
   ]
  },
  {
   "cell_type": "markdown",
   "metadata": {},
   "source": [
    "# Axis labelling"
   ]
  },
  {
   "cell_type": "code",
   "execution_count": null,
   "metadata": {},
   "outputs": [],
   "source": [
    "fig, axs = plt.subplots(1, 2, figsize=my.utilities.cm2inch(9, 4.5))\n",
    "\n",
    "fig.tight_layout()\n",
    "my.utilities.label_axes(\n",
    "    fig,\n",
    "    loc=(-0.3, 1.0),  # in axis-fraction\n",
    "    labels=[\"A\", \"B\"],  # defaults to lowercase if labels=NOne\n",
    "    va=\"top\",\n",
    "    fontsize=10,\n",
    "    fontweight=\"bold\",\n",
    ")\n",
    "fig.suptitle('Subplot labelling')\n",
    "plt.savefig(\"examples/labelAxes.png\")\n",
    "\n"
   ]
  },
  {
   "cell_type": "markdown",
   "metadata": {},
   "source": [
    "# Everything together"
   ]
  },
  {
   "cell_type": "code",
   "execution_count": null,
   "metadata": {},
   "outputs": [],
   "source": [
    "from scipy.stats import ttest_ind"
   ]
  },
  {
   "cell_type": "code",
   "execution_count": null,
   "metadata": {},
   "outputs": [],
   "source": [
    "fig, axs = plt.subplots(1, 3, figsize=my.utilities.cm2inch(3 * 4.5, 4.5))\n",
    "\n",
    "# Violin Plot\n",
    "axs[0] = my.plots.violin(data[[\"b\", \"c\", \"d\"]], value_name=\"Measure\", ax=axs[0])\n",
    "axs[0].set_title(\"Violin\")\n",
    "\n",
    "# Annotations\n",
    "d = np.mean(data[\"b\"]) - np.mean(data[\"c\"]) / np.sqrt(\n",
    "    np.std(data[\"b\"] ** 2) + np.std(data[\"c\"] ** 2)\n",
    ")\n",
    "axs[0] = my.annotation.hTextLine(\n",
    "    \"$d$ = {d:.2f}\".format(d=d), 0, 1, 3.5, ax=axs[0], lineTextGap=0.02\n",
    ")\n",
    "\n",
    "tval, pval = ttest_ind(data[\"c\"], data[\"b\"], equal_var=False)\n",
    "if pval < 0.001:\n",
    "    pstring = \"$P$ < 0.001\"\n",
    "else:\n",
    "    pstring = \"$P$ = {pval:.4f}\".format(pval=pval)\n",
    "axs[0] = my.annotation.hTextLine(pstring, 1, 2, 2.5, lineTextGap=0.02, ax=axs[0])\n",
    "\n",
    "axs[0].set_ylim(-2, 4)\n",
    "\n",
    "# Scatter Plot\n",
    "axs[1].plot(\n",
    "    []\n",
    ")  # skip first color so that relations of colors to variables are constant\n",
    "axs[1] = my.plots.scatter(data[\"b\"], data[\"c\"], label=\"c\", ax=axs[1])\n",
    "axs[1] = my.plots.scatter(data[\"b\"], data[\"d\"], label=\"d\", ax=axs[1])\n",
    "axs[1].set_xlim(-1, 3)\n",
    "axs[1].set_ylim(-1, 2)\n",
    "axs[1].set_xlabel(\"b\")\n",
    "axs[1].set_ylabel(\"Other\")\n",
    "axs[1].legend()\n",
    "axs[1].set_title(\"Scatter\")\n",
    "\n",
    "\n",
    "# LM Plot\n",
    "for i in range(4):\n",
    "    axs[2].plot(\n",
    "        []\n",
    "    )  # skip first colors so that relations of colors to variables are constant\n",
    "\n",
    "lmout1 = my.plots.lm(data[\"b\"], data[\"e\"], label=\"e\", ax=axs[2])\n",
    "axs[2].set_xlabel(\"b\")\n",
    "axs[2].set_ylabel(\"e\")\n",
    "axs[2].set_xlim(-1, 3)\n",
    "axs[2].set_ylim(-1.5, 1.5)\n",
    "axs[2].set_title('Linear model')\n",
    "\n",
    "# Labelling\n",
    "fig.tight_layout(w_pad=3)\n",
    "my.utilities.label_axes(\n",
    "    fig, fontsize=10, loc=(-0.35, 1.0), fontweight=\"bold\", ha=\"left\", va=\"bottom\"\n",
    ")\n",
    "\n",
    "plt.savefig(\"examples/combination.png\")"
   ]
  },
  {
   "cell_type": "code",
   "execution_count": null,
   "metadata": {},
   "outputs": [],
   "source": []
  }
 ],
 "metadata": {
  "file_extension": ".py",
  "kernelspec": {
   "display_name": "Python 3",
   "language": "python",
   "name": "python3"
  },
  "language_info": {
   "codemirror_mode": {
    "name": "ipython",
    "version": 3
   },
   "file_extension": ".py",
   "mimetype": "text/x-python",
   "name": "python",
   "nbconvert_exporter": "python",
   "pygments_lexer": "ipython3",
   "version": "3.7.3"
  },
  "mimetype": "text/x-python",
  "name": "python",
  "npconvert_exporter": "python",
  "pygments_lexer": "ipython3",
  "version": 3
 },
 "nbformat": 4,
 "nbformat_minor": 2
}
